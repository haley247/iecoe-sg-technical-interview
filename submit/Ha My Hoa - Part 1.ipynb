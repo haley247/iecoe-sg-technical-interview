{
 "cells": [
  {
   "cell_type": "code",
   "execution_count": 1,
   "metadata": {},
   "outputs": [],
   "source": [
    "import pandas as pd\n",
    "import numpy as np\n",
    "\n",
    "#display\n",
    "pd.set_option('display.max_colwidth', None)\n",
    "\n",
    "df_case = pd.read_pickle('df_cases_200906.gzip')\n",
    "df_lable = pd.read_pickle('df_label_200906.gzip')"
   ]
  },
  {
   "cell_type": "markdown",
   "metadata": {},
   "source": [
    "````\n",
    "vectorized code runs faster than looping\n",
    "```"
   ]
  },
  {
   "cell_type": "code",
   "execution_count": 2,
   "metadata": {},
   "outputs": [
    {
     "name": "stdout",
     "output_type": "stream",
     "text": [
      "CPU times: user 54.9 ms, sys: 4.17 ms, total: 59.1 ms\n",
      "Wall time: 61.3 ms\n"
     ]
    }
   ],
   "source": [
    "\n",
    "%%time\n",
    "#Create a column to determine validity of each row \n",
    "df_case['Is_Valid'] = np.where((df_case['IsExecuted'] == False) | (df_case['QualityScore'] < 0.81), False,True)\n",
    "df_case = df_case.drop(columns=['Language','StartDate','DocumentType','IsExecuted','QualityScore'])\n",
    "\n",
    "#Inserting columns at position 2 and 3\n",
    "df_case.insert(2,'InvalidFileNames','')\n",
    "df_case.insert(3,'ValidFileNames','')\n",
    "\n",
    "#Fill Name in column InvalidFileNames and ValidFileNames to groupby later\n",
    "df_case['InvalidFileNames'] = np.where((df_case['Is_Valid'] == False),df_case['FileName'],None)\n",
    "df_case['ValidFileNames'] = np.where((df_case['Is_Valid'] == True),df_case['FileName'],None)\n",
    "df_case['OcrText'] = np.where((df_case['Is_Valid'] == True),df_case['OcrText'],None)\n",
    "\n",
    "df_case = df_case.drop(columns=['FileName','Is_Valid'])\n",
    "\n",
    "df_case = df_case.groupby('CaseId').agg({'InvalidFileNames': lambda x: list(filter(None, x)),\n",
    "                               'ValidFileNames': lambda x: list(filter(None, x)),\n",
    "                               'OcrText': lambda x: ' '.join(list(filter(None, x)))\n",
    "                              }).reset_index()\n",
    "\n",
    "df_final = pd.merge(df_case, df_lable, on='CaseId')"
   ]
  },
  {
   "cell_type": "code",
   "execution_count": 3,
   "metadata": {},
   "outputs": [
    {
     "data": {
      "text/html": [
       "<div>\n",
       "<style scoped>\n",
       "    .dataframe tbody tr th:only-of-type {\n",
       "        vertical-align: middle;\n",
       "    }\n",
       "\n",
       "    .dataframe tbody tr th {\n",
       "        vertical-align: top;\n",
       "    }\n",
       "\n",
       "    .dataframe thead th {\n",
       "        text-align: right;\n",
       "    }\n",
       "</style>\n",
       "<table border=\"1\" class=\"dataframe\">\n",
       "  <thead>\n",
       "    <tr style=\"text-align: right;\">\n",
       "      <th></th>\n",
       "      <th>CaseId</th>\n",
       "      <th>InvalidFileNames</th>\n",
       "      <th>ValidFileNames</th>\n",
       "      <th>OcrText</th>\n",
       "      <th>label_1</th>\n",
       "      <th>label_2</th>\n",
       "    </tr>\n",
       "  </thead>\n",
       "  <tbody>\n",
       "    <tr>\n",
       "      <th>1093</th>\n",
       "      <td>003061230659</td>\n",
       "      <td>[003061230659_72651667_Order form_978-0-661-06636-2.pdf]</td>\n",
       "      <td>[]</td>\n",
       "      <td></td>\n",
       "      <td>True</td>\n",
       "      <td>False</td>\n",
       "    </tr>\n",
       "    <tr>\n",
       "      <th>1094</th>\n",
       "      <td>003061230710</td>\n",
       "      <td>[003061230710_80047544_other documents_978-1-02-279791-8.pdf, 003061230710_59256366_Order form_978-1-209-37083-5.pdf]</td>\n",
       "      <td>[]</td>\n",
       "      <td></td>\n",
       "      <td>True</td>\n",
       "      <td>False</td>\n",
       "    </tr>\n",
       "    <tr>\n",
       "      <th>1095</th>\n",
       "      <td>003061230728</td>\n",
       "      <td>[003061230728_79408066_Master contract_978-0-14-891566-4.pdf, 003061230728_56717174_Amendments_978-1-4471-4999-6.pdf]</td>\n",
       "      <td>[003061230728_74076581_Amendments_978-0-14-763189-3.pdf]</td>\n",
       "      <td>None attorney spend tend miss appear.</td>\n",
       "      <td>True</td>\n",
       "      <td>False</td>\n",
       "    </tr>\n",
       "    <tr>\n",
       "      <th>1096</th>\n",
       "      <td>003061230748</td>\n",
       "      <td>[003061230748_65193716_Contract Documents_978-0-9561206-8-7.pdf]</td>\n",
       "      <td>[]</td>\n",
       "      <td></td>\n",
       "      <td>True</td>\n",
       "      <td>False</td>\n",
       "    </tr>\n",
       "    <tr>\n",
       "      <th>1097</th>\n",
       "      <td>003061230757</td>\n",
       "      <td>[003061230757_84690982_other documents_978-0-10-551297-4.pdf]</td>\n",
       "      <td>[003061230757_72990476_Contract Documents_978-1-4943-5720-7.pdf]</td>\n",
       "      <td>Determine go network.</td>\n",
       "      <td>False</td>\n",
       "      <td>False</td>\n",
       "    </tr>\n",
       "  </tbody>\n",
       "</table>\n",
       "</div>"
      ],
      "text/plain": [
       "            CaseId  \\\n",
       "1093  003061230659   \n",
       "1094  003061230710   \n",
       "1095  003061230728   \n",
       "1096  003061230748   \n",
       "1097  003061230757   \n",
       "\n",
       "                                                                                                           InvalidFileNames  \\\n",
       "1093                                                               [003061230659_72651667_Order form_978-0-661-06636-2.pdf]   \n",
       "1094  [003061230710_80047544_other documents_978-1-02-279791-8.pdf, 003061230710_59256366_Order form_978-1-209-37083-5.pdf]   \n",
       "1095  [003061230728_79408066_Master contract_978-0-14-891566-4.pdf, 003061230728_56717174_Amendments_978-1-4471-4999-6.pdf]   \n",
       "1096                                                       [003061230748_65193716_Contract Documents_978-0-9561206-8-7.pdf]   \n",
       "1097                                                          [003061230757_84690982_other documents_978-0-10-551297-4.pdf]   \n",
       "\n",
       "                                                        ValidFileNames  \\\n",
       "1093                                                                []   \n",
       "1094                                                                []   \n",
       "1095          [003061230728_74076581_Amendments_978-0-14-763189-3.pdf]   \n",
       "1096                                                                []   \n",
       "1097  [003061230757_72990476_Contract Documents_978-1-4943-5720-7.pdf]   \n",
       "\n",
       "                                    OcrText label_1 label_2  \n",
       "1093                                           True   False  \n",
       "1094                                           True   False  \n",
       "1095  None attorney spend tend miss appear.    True   False  \n",
       "1096                                           True   False  \n",
       "1097                  Determine go network.   False   False  "
      ]
     },
     "execution_count": 3,
     "metadata": {},
     "output_type": "execute_result"
    }
   ],
   "source": [
    "df_final.tail(5)"
   ]
  },
  {
   "cell_type": "code",
   "execution_count": 4,
   "metadata": {},
   "outputs": [],
   "source": [
    "df_final.to_pickle(\"./df_final.gzip\")"
   ]
  },
  {
   "cell_type": "code",
   "execution_count": 5,
   "metadata": {},
   "outputs": [],
   "source": [
    "#df = pd.read_pickle('df_final.gzip')"
   ]
  }
 ],
 "metadata": {
  "kernelspec": {
   "display_name": "Python 3",
   "language": "python",
   "name": "python3"
  },
  "language_info": {
   "codemirror_mode": {
    "name": "ipython",
    "version": 3
   },
   "file_extension": ".py",
   "mimetype": "text/x-python",
   "name": "python",
   "nbconvert_exporter": "python",
   "pygments_lexer": "ipython3",
   "version": "3.8.5"
  }
 },
 "nbformat": 4,
 "nbformat_minor": 4
}
