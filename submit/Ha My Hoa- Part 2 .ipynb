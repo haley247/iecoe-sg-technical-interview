{
 "cells": [
  {
   "cell_type": "markdown",
   "metadata": {},
   "source": [
    "# PART 2: FAKE NEWS DETECTION"
   ]
  },
  {
   "cell_type": "markdown",
   "metadata": {},
   "source": [
    "# Importing packages"
   ]
  },
  {
   "cell_type": "code",
   "execution_count": 39,
   "metadata": {},
   "outputs": [
    {
     "name": "stdout",
     "output_type": "stream",
     "text": [
      "Requirement already satisfied: langdetect in /Users/hoaha/opt/anaconda3/lib/python3.8/site-packages (1.0.8)\n",
      "Requirement already satisfied: six in /Users/hoaha/opt/anaconda3/lib/python3.8/site-packages (from langdetect) (1.15.0)\n"
     ]
    }
   ],
   "source": [
    "import pandas as pd\n",
    "import numpy as np\n",
    "pd.set_option('display.max_colwidth', None)\n",
    "\n",
    "#visualization\n",
    "import matplotlib.pyplot as plt\n",
    "import seaborn as sns\n",
    "%matplotlib inline\n",
    "\n",
    "\n",
    "import nltk\n",
    "from nltk import FreqDist\n",
    "from nltk.corpus import stopwords\n",
    "from nltk.tokenize import word_tokenize, sent_tokenize\n",
    "from nltk.tokenize import TreebankWordTokenizer\n",
    "from nltk.stem.wordnet import WordNetLemmatizer\n",
    "\n",
    "import re\n",
    "import spacy\n",
    "import string\n",
    "\n",
    "import warnings\n",
    "warnings.filterwarnings(\"ignore\")\n",
    "\n",
    "#Language Detection\n",
    "!pip install langdetect\n",
    "\n",
    "from sklearn.feature_extraction.text import TfidfVectorizer\n",
    "from sklearn.model_selection import train_test_split\n",
    "\n",
    "#deep learning library\n",
    "from keras.models import *\n",
    "from keras.layers import *\n",
    "from keras.callbacks import *\n",
    "\n",
    "from tensorflow.keras.preprocessing.text import Tokenizer\n",
    "import tensorflow as tf"
   ]
  },
  {
   "cell_type": "markdown",
   "metadata": {},
   "source": [
    "# DATA"
   ]
  },
  {
   "cell_type": "code",
   "execution_count": 2,
   "metadata": {},
   "outputs": [
    {
     "name": "stdout",
     "output_type": "stream",
     "text": [
      "True News Dataframe's length is 21417\n",
      "Fake News Dataframe's length is 23481\n"
     ]
    }
   ],
   "source": [
    "df_true = pd.read_csv('True.csv')\n",
    "df_fake = pd.read_csv('Fake.csv')\n",
    "\n",
    "print(\"True News Dataframe's length is \" + str(len(df_true)))\n",
    "print(\"Fake News Dataframe's length is \" + str(len(df_fake)))"
   ]
  },
  {
   "cell_type": "markdown",
   "metadata": {},
   "source": [
    "### Language Detection & Insight"
   ]
  },
  {
   "cell_type": "code",
   "execution_count": 3,
   "metadata": {},
   "outputs": [],
   "source": [
    "from langdetect import detect\n",
    "df_true['lang'] = None\n",
    "for i in range(len(df_true['text'])):\n",
    "    try: \n",
    "        df_true['lang'][i] = detect(df_true['text'][i])   \n",
    "    except:\n",
    "        pass"
   ]
  },
  {
   "cell_type": "code",
   "execution_count": 4,
   "metadata": {},
   "outputs": [],
   "source": [
    "df_fake['lang'] = None\n",
    "for i in range(len(df_fake['text'])):\n",
    "    try:\n",
    "        df_fake['lang'][i] = detect(df_fake['text'][i])\n",
    "    except:\n",
    "        pass"
   ]
  },
  {
   "cell_type": "code",
   "execution_count": 5,
   "metadata": {},
   "outputs": [
    {
     "data": {
      "text/plain": [
       "array(['en', None], dtype=object)"
      ]
     },
     "execution_count": 5,
     "metadata": {},
     "output_type": "execute_result"
    }
   ],
   "source": [
    "df_true['lang'].unique()"
   ]
  },
  {
   "cell_type": "code",
   "execution_count": 6,
   "metadata": {},
   "outputs": [
    {
     "data": {
      "text/plain": [
       "array(['en', None, 'fi', 'es', 'de', 'pt', 'sw', 'id', 'pl', 'so', 'ro',\n",
       "       'vi', 'fr'], dtype=object)"
      ]
     },
     "execution_count": 6,
     "metadata": {},
     "output_type": "execute_result"
    }
   ],
   "source": [
    "df_fake['lang'].unique()"
   ]
  },
  {
   "cell_type": "code",
   "execution_count": 7,
   "metadata": {},
   "outputs": [],
   "source": [
    "non_en = df_fake[df_fake['lang'].isin(['fi', 'de', 'pt', 'sw', 'fr', 'pl', 'so', 'ro', 'vi','es',None])]"
   ]
  },
  {
   "cell_type": "code",
   "execution_count": 8,
   "metadata": {},
   "outputs": [
    {
     "data": {
      "text/html": [
       "<div>\n",
       "<style scoped>\n",
       "    .dataframe tbody tr th:only-of-type {\n",
       "        vertical-align: middle;\n",
       "    }\n",
       "\n",
       "    .dataframe tbody tr th {\n",
       "        vertical-align: top;\n",
       "    }\n",
       "\n",
       "    .dataframe thead th {\n",
       "        text-align: right;\n",
       "    }\n",
       "</style>\n",
       "<table border=\"1\" class=\"dataframe\">\n",
       "  <thead>\n",
       "    <tr style=\"text-align: right;\">\n",
       "      <th></th>\n",
       "      <th>title</th>\n",
       "      <th>text</th>\n",
       "      <th>subject</th>\n",
       "      <th>date</th>\n",
       "      <th>lang</th>\n",
       "    </tr>\n",
       "  </thead>\n",
       "  <tbody>\n",
       "    <tr>\n",
       "      <th>21787</th>\n",
       "      <td>(VIDEO) PAM GELLER HAMMERS CNN HOST: “Did Christians Burn Embassies When Jesus Christ Was Put in Jar of Urine?”</td>\n",
       "      <td></td>\n",
       "      <td>left-news</td>\n",
       "      <td>May 4, 2015</td>\n",
       "      <td>None</td>\n",
       "    </tr>\n",
       "    <tr>\n",
       "      <th>21813</th>\n",
       "      <td>(VIDEO) MOM OF THE YEAR! WHEN YOUR MOM CATCHES YOU RIOTING AND BEATS YOUR A@@ ON LIVE TV</td>\n",
       "      <td></td>\n",
       "      <td>left-news</td>\n",
       "      <td>Apr 27, 2015</td>\n",
       "      <td>None</td>\n",
       "    </tr>\n",
       "    <tr>\n",
       "      <th>21815</th>\n",
       "      <td>(VIDEO) RIOTERS TAKE SELFIES WITH TORCHED POLICE CAR</td>\n",
       "      <td></td>\n",
       "      <td>left-news</td>\n",
       "      <td>Apr 27, 2015</td>\n",
       "      <td>None</td>\n",
       "    </tr>\n",
       "    <tr>\n",
       "      <th>21816</th>\n",
       "      <td>BALTIMORE BURNS: MARYLAND GOVERNOR BRINGS IN NATIONAL GUARD AND DECLARES A STATE OF EMERGENCY</td>\n",
       "      <td></td>\n",
       "      <td>left-news</td>\n",
       "      <td>Apr 27, 2015</td>\n",
       "      <td>None</td>\n",
       "    </tr>\n",
       "    <tr>\n",
       "      <th>21826</th>\n",
       "      <td>FULL VIDEO: THE BLOCKBUSTER INVESTIGATION INTO CLINTON CASH</td>\n",
       "      <td></td>\n",
       "      <td>left-news</td>\n",
       "      <td>Apr 25, 2015</td>\n",
       "      <td>None</td>\n",
       "    </tr>\n",
       "    <tr>\n",
       "      <th>21827</th>\n",
       "      <td>(VIDEO) HILLARY CLINTON: RELIGIOUS BELIEFS MUST BE CHANGED TO ACCOMMODATE ABORTION</td>\n",
       "      <td></td>\n",
       "      <td>left-news</td>\n",
       "      <td>Apr 25, 2015</td>\n",
       "      <td>None</td>\n",
       "    </tr>\n",
       "    <tr>\n",
       "      <th>21857</th>\n",
       "      <td>(VIDEO)ICE PROTECTING OBAMA: WON’T RELEASE NAMES OF CRIMINAL ILLEGALS RELEASED INTO AMERICA</td>\n",
       "      <td></td>\n",
       "      <td>left-news</td>\n",
       "      <td>Apr 14, 2015</td>\n",
       "      <td>None</td>\n",
       "    </tr>\n",
       "    <tr>\n",
       "      <th>21869</th>\n",
       "      <td>https://fedup.wpengine.com/wp-content/uploads/2015/04/hillarystreetart.jpg</td>\n",
       "      <td>https://fedup.wpengine.com/wp-content/uploads/2015/04/hillarystreetart.jpg</td>\n",
       "      <td>left-news</td>\n",
       "      <td>https://fedup.wpengine.com/wp-content/uploads/2015/04/hillarystreetart.jpg</td>\n",
       "      <td>None</td>\n",
       "    </tr>\n",
       "    <tr>\n",
       "      <th>21870</th>\n",
       "      <td>https://fedup.wpengine.com/wp-content/uploads/2015/04/entitled.jpg</td>\n",
       "      <td>https://fedup.wpengine.com/wp-content/uploads/2015/04/entitled.jpg</td>\n",
       "      <td>left-news</td>\n",
       "      <td>https://fedup.wpengine.com/wp-content/uploads/2015/04/entitled.jpg</td>\n",
       "      <td>None</td>\n",
       "    </tr>\n",
       "    <tr>\n",
       "      <th>21873</th>\n",
       "      <td>(VIDEO) HYSTERICAL SNL TAKE ON HILLARY’S ANNOUNCEMENT: ‘BUCKLE UP AMERICA, THE CLINTONS ARE BACK!’</td>\n",
       "      <td></td>\n",
       "      <td>left-news</td>\n",
       "      <td>Apr 12, 2015</td>\n",
       "      <td>None</td>\n",
       "    </tr>\n",
       "  </tbody>\n",
       "</table>\n",
       "</div>"
      ],
      "text/plain": [
       "                                                                                                                 title  \\\n",
       "21787  (VIDEO) PAM GELLER HAMMERS CNN HOST: “Did Christians Burn Embassies When Jesus Christ Was Put in Jar of Urine?”   \n",
       "21813                         (VIDEO) MOM OF THE YEAR! WHEN YOUR MOM CATCHES YOU RIOTING AND BEATS YOUR A@@ ON LIVE TV   \n",
       "21815                                                             (VIDEO) RIOTERS TAKE SELFIES WITH TORCHED POLICE CAR   \n",
       "21816                    BALTIMORE BURNS: MARYLAND GOVERNOR BRINGS IN NATIONAL GUARD AND DECLARES A STATE OF EMERGENCY   \n",
       "21826                                                      FULL VIDEO: THE BLOCKBUSTER INVESTIGATION INTO CLINTON CASH   \n",
       "21827                               (VIDEO) HILLARY CLINTON: RELIGIOUS BELIEFS MUST BE CHANGED TO ACCOMMODATE ABORTION   \n",
       "21857                      (VIDEO)ICE PROTECTING OBAMA: WON’T RELEASE NAMES OF CRIMINAL ILLEGALS RELEASED INTO AMERICA   \n",
       "21869                                       https://fedup.wpengine.com/wp-content/uploads/2015/04/hillarystreetart.jpg   \n",
       "21870                                               https://fedup.wpengine.com/wp-content/uploads/2015/04/entitled.jpg   \n",
       "21873               (VIDEO) HYSTERICAL SNL TAKE ON HILLARY’S ANNOUNCEMENT: ‘BUCKLE UP AMERICA, THE CLINTONS ARE BACK!’   \n",
       "\n",
       "                                                                             text  \\\n",
       "21787                                                                               \n",
       "21813                                                                               \n",
       "21815                                                                               \n",
       "21816                                                                               \n",
       "21826                                                                               \n",
       "21827                                                                               \n",
       "21857                                                                               \n",
       "21869  https://fedup.wpengine.com/wp-content/uploads/2015/04/hillarystreetart.jpg   \n",
       "21870          https://fedup.wpengine.com/wp-content/uploads/2015/04/entitled.jpg   \n",
       "21873                                                                               \n",
       "\n",
       "         subject  \\\n",
       "21787  left-news   \n",
       "21813  left-news   \n",
       "21815  left-news   \n",
       "21816  left-news   \n",
       "21826  left-news   \n",
       "21827  left-news   \n",
       "21857  left-news   \n",
       "21869  left-news   \n",
       "21870  left-news   \n",
       "21873  left-news   \n",
       "\n",
       "                                                                             date  \\\n",
       "21787                                                                 May 4, 2015   \n",
       "21813                                                                Apr 27, 2015   \n",
       "21815                                                                Apr 27, 2015   \n",
       "21816                                                                Apr 27, 2015   \n",
       "21826                                                                Apr 25, 2015   \n",
       "21827                                                                Apr 25, 2015   \n",
       "21857                                                                Apr 14, 2015   \n",
       "21869  https://fedup.wpengine.com/wp-content/uploads/2015/04/hillarystreetart.jpg   \n",
       "21870          https://fedup.wpengine.com/wp-content/uploads/2015/04/entitled.jpg   \n",
       "21873                                                                Apr 12, 2015   \n",
       "\n",
       "       lang  \n",
       "21787  None  \n",
       "21813  None  \n",
       "21815  None  \n",
       "21816  None  \n",
       "21826  None  \n",
       "21827  None  \n",
       "21857  None  \n",
       "21869  None  \n",
       "21870  None  \n",
       "21873  None  "
      ]
     },
     "execution_count": 8,
     "metadata": {},
     "output_type": "execute_result"
    }
   ],
   "source": [
    "non_en.tail(10)"
   ]
  },
  {
   "cell_type": "code",
   "execution_count": 9,
   "metadata": {},
   "outputs": [
    {
     "data": {
      "text/plain": [
       "0.2327413653592266"
      ]
     },
     "execution_count": 9,
     "metadata": {},
     "output_type": "execute_result"
    }
   ],
   "source": [
    "len(df_fake[df_fake['title'].str.contains('VIDEO')])/len(df_fake)"
   ]
  },
  {
   "cell_type": "markdown",
   "metadata": {},
   "source": [
    "### Insight:\n",
    "    - All True News are in English\n",
    "    - Fake News contains a lot of http links and term [(VIDEOS)] (around 23%) in their content, so we will need to get rid of these to purify data\n",
    "    - Fake News uses a lot of caplocks so we will need to lowercase data"
   ]
  },
  {
   "cell_type": "markdown",
   "metadata": {},
   "source": [
    "### Merging Datasets"
   ]
  },
  {
   "cell_type": "code",
   "execution_count": 10,
   "metadata": {},
   "outputs": [],
   "source": [
    "df_true['is_true'] = 1\n",
    "df_fake['is_true'] = 0\n",
    "df = pd.concat([df_fake,df_true],ignore_index=True)"
   ]
  },
  {
   "cell_type": "markdown",
   "metadata": {},
   "source": [
    "# Exploratory Data Analysis"
   ]
  },
  {
   "cell_type": "markdown",
   "metadata": {},
   "source": [
    "### Dataframe overall information"
   ]
  },
  {
   "cell_type": "code",
   "execution_count": 11,
   "metadata": {},
   "outputs": [
    {
     "name": "stdout",
     "output_type": "stream",
     "text": [
      "<class 'pandas.core.frame.DataFrame'>\n",
      "RangeIndex: 44898 entries, 0 to 44897\n",
      "Data columns (total 6 columns):\n",
      " #   Column   Non-Null Count  Dtype \n",
      "---  ------   --------------  ----- \n",
      " 0   title    44898 non-null  object\n",
      " 1   text     44898 non-null  object\n",
      " 2   subject  44898 non-null  object\n",
      " 3   date     44898 non-null  object\n",
      " 4   lang     44183 non-null  object\n",
      " 5   is_true  44898 non-null  int64 \n",
      "dtypes: int64(1), object(5)\n",
      "memory usage: 2.1+ MB\n"
     ]
    }
   ],
   "source": [
    "df.info()"
   ]
  },
  {
   "cell_type": "markdown",
   "metadata": {},
   "source": [
    "### Checking for imbalance class"
   ]
  },
  {
   "cell_type": "code",
   "execution_count": 12,
   "metadata": {},
   "outputs": [
    {
     "data": {
      "text/plain": [
       "<matplotlib.axes._subplots.AxesSubplot at 0x1568572b0>"
      ]
     },
     "execution_count": 12,
     "metadata": {},
     "output_type": "execute_result"
    },
    {
     "data": {
      "image/png": "[encoded data removed]",
      "text/plain": [
       "<matplotlib.figure.Figure at 0x1560b6ee0>"
      ]
     },
     "metadata": {},
     "output_type": "display_data"
    }
   ],
   "source": [
    "sns.set_style(\"darkgrid\")\n",
    "sns.countplot(x = df.is_true)"
   ]
  },
  {
   "cell_type": "markdown",
   "metadata": {},
   "source": [
    "### Counting Catergory of True News and Fake News"
   ]
  },
  {
   "cell_type": "code",
   "execution_count": 13,
   "metadata": {},
   "outputs": [
    {
     "data": {
      "text/plain": [
       "News               9050\n",
       "politics           6841\n",
       "left-news          4459\n",
       "Government News    1570\n",
       "US_News             783\n",
       "Middle-east         778\n",
       "Name: subject, dtype: int64"
      ]
     },
     "execution_count": 13,
     "metadata": {},
     "output_type": "execute_result"
    }
   ],
   "source": [
    "df[df['is_true']==0].subject.value_counts()"
   ]
  },
  {
   "cell_type": "code",
   "execution_count": 14,
   "metadata": {},
   "outputs": [
    {
     "data": {
      "text/plain": [
       "politicsNews    11272\n",
       "worldnews       10145\n",
       "Name: subject, dtype: int64"
      ]
     },
     "execution_count": 14,
     "metadata": {},
     "output_type": "execute_result"
    }
   ],
   "source": [
    "df[df['is_true']==1].subject.value_counts()"
   ]
  },
  {
   "cell_type": "code",
   "execution_count": 15,
   "metadata": {},
   "outputs": [
    {
     "data": {
      "text/plain": [
       "[Text(0,0,'News'),\n",
       " Text(0,0,'politics'),\n",
       " Text(0,0,'Government News'),\n",
       " Text(0,0,'left-news'),\n",
       " Text(0,0,'US_News'),\n",
       " Text(0,0,'Middle-east'),\n",
       " Text(0,0,'politicsNews'),\n",
       " Text(0,0,'worldnews')]"
      ]
     },
     "execution_count": 15,
     "metadata": {},
     "output_type": "execute_result"
    },
    {
     "data": {
      "image/png": "[encoded data removed]",
      "text/plain": [
       "<matplotlib.figure.Figure at 0x15689ebe0>"
      ]
     },
     "metadata": {},
     "output_type": "display_data"
    }
   ],
   "source": [
    "plt.figure(figsize = (15,5))\n",
    "chart = sns.countplot(x = \"subject\", hue = \"is_true\" , data = df)\n",
    "chart.set_xticklabels(chart.get_xticklabels(),rotation=90)"
   ]
  },
  {
   "cell_type": "markdown",
   "metadata": {},
   "source": [
    "### Merging title and text column into a column called \"content\""
   ]
  },
  {
   "cell_type": "markdown",
   "metadata": {},
   "source": [
    "```\n",
    "The reason why only text columns - Title and Text are merged together excluding subject column is that. \n",
    "True_news has 2 category and Fake_new has 5 category:\n",
    "None of them are overlapped. If they are merged and introduced into training data, it will cause leakage and bias.\n",
    "```"
   ]
  },
  {
   "cell_type": "code",
   "execution_count": 16,
   "metadata": {},
   "outputs": [],
   "source": [
    "df['text'] = df['text'] + \" \" + df['title']\n",
    "del df['title']"
   ]
  },
  {
   "cell_type": "markdown",
   "metadata": {},
   "source": [
    "# Data Cleaning"
   ]
  },
  {
   "cell_type": "markdown",
   "metadata": {},
   "source": [
    "#### Cleaning Data by:\n",
    "    - Convert to Lower case\n",
    "    - Remove Specials\n",
    "    - Remove Whitespace\n",
    "    - Lemmatize Words\n",
    "    - Remove Stopwords"
   ]
  },
  {
   "cell_type": "code",
   "execution_count": 17,
   "metadata": {},
   "outputs": [],
   "source": [
    "lang_stopwords = stopwords.words('english')"
   ]
  },
  {
   "cell_type": "code",
   "execution_count": 18,
   "metadata": {},
   "outputs": [],
   "source": [
    "def lower_case(text):\n",
    "    words = nltk.word_tokenize(text)\n",
    "    words = [w.lower() for w in words]\n",
    "    return \" \".join(words)  \n",
    "\n",
    "def remove_http(text):\n",
    "    return re.sub(r'http\\S+', '', text)\n",
    "\n",
    "def remove_specials(text):\n",
    "    text = text.replace(\"[^a-zA-Z#]\", \" \")\n",
    "    return re.sub(r'[^a-zA-Z0-9 ]',r'',text)\n",
    "\n",
    "lemmatizer = WordNetLemmatizer() \n",
    "def lemmatize_words(text):\n",
    "    words = nltk.word_tokenize(text)\n",
    "    words = [lemmatizer.lemmatize(w, \"v\") for w in words]\n",
    "    return \" \".join(words)\n",
    "\n",
    "\n",
    "def remove_stopwords(text):\n",
    "    words = nltk.word_tokenize(text)\n",
    "    stopwords_removed = [w for w in words if w.lower() not in lang_stopwords]\n",
    "    return \" \".join(stopwords_removed)\n",
    "\n",
    "def remove_whitespace(text):\n",
    "    return \" \".join(text.split())"
   ]
  },
  {
   "cell_type": "code",
   "execution_count": 19,
   "metadata": {},
   "outputs": [],
   "source": [
    "for i in range(len(df['text'])):\n",
    "    df['text'][i] = lower_case (df['text'][i])\n",
    "    df['text'][i] = remove_http (df['text'][i])\n",
    "    df['text'][i] = remove_specials (df['text'][i])\n",
    "    df['text'][i] = lemmatize_words (df['text'][i])\n",
    "    df['text'][i] = remove_stopwords (df['text'][i])\n",
    "    df['text'][i] = remove_whitespace (df['text'][i])"
   ]
  },
  {
   "cell_type": "code",
   "execution_count": 20,
   "metadata": {},
   "outputs": [],
   "source": [
    "# function to plot most frequent terms\n",
    "def freq_words(x, terms = 30):\n",
    "    all_words = ' '.join([text for text in x])\n",
    "    all_words = all_words.split()\n",
    "\n",
    "    fdist = FreqDist(all_words)\n",
    "    words_df = pd.DataFrame({'word':list(fdist.keys()), 'count':list(fdist.values())})\n",
    "\n",
    "    # selecting top 20 most frequent words\n",
    "    d = words_df.nlargest(columns=\"count\", n = terms) \n",
    "    plt.figure(figsize=(50,20))\n",
    "    ax = sns.barplot(data=d, x= \"word\", y = \"count\")\n",
    "    ax.set(ylabel = 'Count')\n",
    "    plt.show()"
   ]
  },
  {
   "cell_type": "code",
   "execution_count": 21,
   "metadata": {},
   "outputs": [
    {
     "data": {
      "image/png": "[encoded data removed]",
      "text/plain": [
       "<matplotlib.figure.Figure at 0x15ad29820>"
      ]
     },
     "metadata": {},
     "output_type": "display_data"
    }
   ],
   "source": [
    "freq_words(df[df['is_true']==1]['text'])"
   ]
  },
  {
   "cell_type": "code",
   "execution_count": 22,
   "metadata": {},
   "outputs": [
    {
     "data": {
      "image/png": "[encoded data removed]",
      "text/plain": [
       "<matplotlib.figure.Figure at 0x1590e1730>"
      ]
     },
     "metadata": {},
     "output_type": "display_data"
    }
   ],
   "source": [
    "freq_words(df[df['is_true']==0]['text'])"
   ]
  },
  {
   "cell_type": "code",
   "execution_count": 23,
   "metadata": {},
   "outputs": [],
   "source": [
    "### Delete Publication info in Real News\n",
    "additional_stopwords = ['video','reuters']\n",
    "\n",
    "def remove_additional(text):\n",
    "    words = nltk.word_tokenize(text)\n",
    "    stopwords_removed = [w for w in words if w not in additional_stopwords]\n",
    "    return \" \".join(stopwords_removed)"
   ]
  },
  {
   "cell_type": "code",
   "execution_count": 24,
   "metadata": {},
   "outputs": [],
   "source": [
    "for i in range(len(df['text'])):\n",
    "    df['text'][i] = remove_additional (df['text'][i])"
   ]
  },
  {
   "cell_type": "code",
   "execution_count": 25,
   "metadata": {},
   "outputs": [
    {
     "data": {
      "image/png": "[encoded data removed]",
      "text/plain": [
       "<matplotlib.figure.Figure at 0x15688cee0>"
      ]
     },
     "metadata": {},
     "output_type": "display_data"
    }
   ],
   "source": [
    "freq_words(df[df['is_true']==0]['text'])"
   ]
  },
  {
   "cell_type": "markdown",
   "metadata": {},
   "source": [
    "### Top 20 words in News"
   ]
  },
  {
   "cell_type": "code",
   "execution_count": 26,
   "metadata": {},
   "outputs": [
    {
     "data": {
      "image/png": "[encoded data removed]",
      "text/plain": [
       "<matplotlib.figure.Figure at 0x153699040>"
      ]
     },
     "metadata": {},
     "output_type": "display_data"
    }
   ],
   "source": [
    "freq_words(df['text'])"
   ]
  },
  {
   "cell_type": "markdown",
   "metadata": {},
   "source": [
    "# MODELS"
   ]
  },
  {
   "cell_type": "markdown",
   "metadata": {},
   "source": [
    "## Creating Training Data and Testing Data¶"
   ]
  },
  {
   "cell_type": "code",
   "execution_count": 27,
   "metadata": {},
   "outputs": [],
   "source": [
    "from sklearn.model_selection import train_test_split\n",
    "X = df['text']\n",
    "Y = df['is_true']\n",
    "X_train, X_test, y_train, y_test = train_test_split(X, Y, test_size=0.30, random_state=42)"
   ]
  },
  {
   "cell_type": "markdown",
   "metadata": {},
   "source": [
    "## 1. LSTM with GloVe Embedding"
   ]
  },
  {
   "cell_type": "code",
   "execution_count": 28,
   "metadata": {},
   "outputs": [
    {
     "name": "stdout",
     "output_type": "stream",
     "text": [
      "168693\n"
     ]
    }
   ],
   "source": [
    "from keras.preprocessing.text import Tokenizer\n",
    "from keras.preprocessing.sequence import pad_sequences\n",
    "\n",
    "#Tokenize the sentences\n",
    "tokenizer = Tokenizer()\n",
    "\n",
    "#preparing vocabulary\n",
    "tokenizer.fit_on_texts(list(X_train))\n",
    "\n",
    "#converting text into integer sequences\n",
    "x_tr_seq  = tokenizer.texts_to_sequences(X_train) \n",
    "x_val_seq = tokenizer.texts_to_sequences(X_test)\n",
    "\n",
    "#padding to prepare sequences of same length\n",
    "x_tr_seq  = pad_sequences(x_tr_seq, maxlen=100)\n",
    "x_val_seq = pad_sequences(x_val_seq, maxlen=100)\n",
    "\n",
    "size_of_vocabulary=len(tokenizer.word_index) + 1 #+1 for padding\n",
    "print(size_of_vocabulary)"
   ]
  },
  {
   "cell_type": "markdown",
   "metadata": {},
   "source": [
    "### Word Embedding"
   ]
  },
  {
   "cell_type": "code",
   "execution_count": 29,
   "metadata": {},
   "outputs": [
    {
     "name": "stdout",
     "output_type": "stream",
     "text": [
      "Loaded 400000 word vectors.\n"
     ]
    }
   ],
   "source": [
    "#Source Code: https://www.analyticsvidhya.com/blog/2020/03/pretrained-word-embeddings-nlp/\n",
    "\n",
    "embeddings_index = dict()\n",
    "f = open('glove.6B.300d.txt')\n",
    "\n",
    "for line in f:\n",
    "    values = line.split()\n",
    "    word = values[0]\n",
    "    coefs = np.asarray(values[1:], dtype='float32')\n",
    "    embeddings_index[word] = coefs\n",
    "\n",
    "f.close()\n",
    "print('Loaded %s word vectors.' % len(embeddings_index))\n",
    "\n",
    "embedding_matrix = np.zeros((size_of_vocabulary, 300))"
   ]
  },
  {
   "cell_type": "code",
   "execution_count": 30,
   "metadata": {},
   "outputs": [],
   "source": [
    "for word, i in tokenizer.word_index.items():\n",
    "    embedding_vector = embeddings_index.get(word)\n",
    "    if embedding_vector is not None:\n",
    "        embedding_matrix[i] = embedding_vector"
   ]
  },
  {
   "cell_type": "markdown",
   "metadata": {},
   "source": [
    "### LSTM"
   ]
  },
  {
   "cell_type": "code",
   "execution_count": 31,
   "metadata": {},
   "outputs": [
    {
     "name": "stdout",
     "output_type": "stream",
     "text": [
      "Model: \"sequential\"\n",
      "_________________________________________________________________\n",
      "Layer (type)                 Output Shape              Param #   \n",
      "=================================================================\n",
      "embedding (Embedding)        (None, 100, 300)          50607900  \n",
      "_________________________________________________________________\n",
      "lstm (LSTM)                  (None, 100, 128)          219648    \n",
      "_________________________________________________________________\n",
      "global_max_pooling1d (Global (None, 128)               0         \n",
      "_________________________________________________________________\n",
      "dense (Dense)                (None, 64)                8256      \n",
      "_________________________________________________________________\n",
      "dense_1 (Dense)              (None, 1)                 65        \n",
      "=================================================================\n",
      "Total params: 50,835,869\n",
      "Trainable params: 227,969\n",
      "Non-trainable params: 50,607,900\n",
      "_________________________________________________________________\n",
      "None\n"
     ]
    }
   ],
   "source": [
    "model=Sequential()\n",
    "\n",
    "#embedding layer\n",
    "model.add(Embedding(size_of_vocabulary,300,weights=[embedding_matrix],input_length=100,trainable=False)) \n",
    "\n",
    "#lstm layer\n",
    "model.add(LSTM(128,return_sequences=True,dropout=0.2))\n",
    "\n",
    "#Global Maxpooling\n",
    "model.add(GlobalMaxPooling1D())\n",
    "\n",
    "#Dense Layer\n",
    "model.add(Dense(64,activation='relu')) \n",
    "model.add(Dense(1,activation='sigmoid')) \n",
    "\n",
    "#Add loss function, metrics, optimizer\n",
    "model.compile(optimizer='adam', loss='binary_crossentropy',metrics=[\"acc\"]) \n",
    "\n",
    "#Adding callbacks\n",
    "es = EarlyStopping(monitor='val_loss', mode='min', verbose=1,patience=3)  \n",
    "mc=ModelCheckpoint('best_model.h5', monitor='val_acc', mode='max', save_best_only=True,verbose=1)  \n",
    "\n",
    "#Print summary of model\n",
    "print(model.summary())"
   ]
  },
  {
   "cell_type": "code",
   "execution_count": 32,
   "metadata": {},
   "outputs": [
    {
     "name": "stdout",
     "output_type": "stream",
     "text": [
      "Epoch 1/10\n",
      "246/246 [==============================] - 58s 231ms/step - loss: 0.3031 - acc: 0.8763 - val_loss: 0.1071 - val_acc: 0.9576\n",
      "\n",
      "Epoch 00001: val_acc improved from -inf to 0.95761, saving model to best_model.h5\n",
      "Epoch 2/10\n",
      "246/246 [==============================] - 56s 227ms/step - loss: 0.0961 - acc: 0.9633 - val_loss: 0.0688 - val_acc: 0.9756\n",
      "\n",
      "Epoch 00002: val_acc improved from 0.95761 to 0.97565, saving model to best_model.h5\n",
      "Epoch 3/10\n",
      "246/246 [==============================] - 58s 238ms/step - loss: 0.0520 - acc: 0.9826 - val_loss: 0.0545 - val_acc: 0.9808\n",
      "\n",
      "Epoch 00003: val_acc improved from 0.97565 to 0.98077, saving model to best_model.h5\n",
      "Epoch 4/10\n",
      "246/246 [==============================] - 64s 261ms/step - loss: 0.0325 - acc: 0.9895 - val_loss: 0.0464 - val_acc: 0.9842\n",
      "\n",
      "Epoch 00004: val_acc improved from 0.98077 to 0.98419, saving model to best_model.h5\n",
      "Epoch 5/10\n",
      "246/246 [==============================] - 65s 266ms/step - loss: 0.0203 - acc: 0.9935 - val_loss: 0.0429 - val_acc: 0.9857\n",
      "\n",
      "Epoch 00005: val_acc improved from 0.98419 to 0.98567, saving model to best_model.h5\n",
      "Epoch 6/10\n",
      "246/246 [==============================] - 65s 264ms/step - loss: 0.0131 - acc: 0.9958 - val_loss: 0.0480 - val_acc: 0.9849\n",
      "\n",
      "Epoch 00006: val_acc did not improve from 0.98567\n",
      "Epoch 7/10\n",
      "246/246 [==============================] - 64s 261ms/step - loss: 0.0086 - acc: 0.9976 - val_loss: 0.0444 - val_acc: 0.9869\n",
      "\n",
      "Epoch 00007: val_acc improved from 0.98567 to 0.98693, saving model to best_model.h5\n",
      "Epoch 8/10\n",
      "246/246 [==============================] - 64s 259ms/step - loss: 0.0086 - acc: 0.9978 - val_loss: 0.0499 - val_acc: 0.9864\n",
      "\n",
      "Epoch 00008: val_acc did not improve from 0.98693\n",
      "Epoch 00008: early stopping\n"
     ]
    }
   ],
   "source": [
    "history = model.fit(np.array(x_tr_seq),np.array(y_train),batch_size=128,epochs=10,\n",
    "                    validation_data=(np.array(x_val_seq),np.array(y_test)),verbose=1,\n",
    "                    callbacks=[es,mc])"
   ]
  },
  {
   "cell_type": "code",
   "execution_count": 48,
   "metadata": {},
   "outputs": [
    {
     "name": "stdout",
     "output_type": "stream",
     "text": [
      "106/106 [==============================] - 9s 83ms/step - loss: 0.0444 - acc: 0.9869\n",
      "0.9869339466094971\n",
      "              precision    recall  f1-score   support\n",
      "\n",
      "        Fake       0.99      0.98      0.99      7091\n",
      "    Not Fake       0.98      0.99      0.99      6379\n",
      "\n",
      "    accuracy                           0.99     13470\n",
      "   macro avg       0.99      0.99      0.99     13470\n",
      "weighted avg       0.99      0.99      0.99     13470\n",
      "\n"
     ]
    }
   ],
   "source": [
    "#loading best model\n",
    "from keras.models import load_model\n",
    "model = load_model('best_model.h5')\n",
    "\n",
    "y_pred = model.predict_classes(x_val_seq)\n",
    "\n",
    "\n",
    "_,val_acc = model.evaluate(x_val_seq,y_test, batch_size=128)\n",
    "print(val_acc)\n",
    "\n",
    "from sklearn.metrics import classification_report\n",
    "# Creating classification report \n",
    "print(classification_report(y_test, y_pred, target_names = ['Fake','Not Fake']))"
   ]
  },
  {
   "cell_type": "markdown",
   "metadata": {},
   "source": [
    "## 2. XGBoost with TF-DIF"
   ]
  },
  {
   "cell_type": "code",
   "execution_count": 34,
   "metadata": {},
   "outputs": [],
   "source": [
    "#Fitting on Train Data only\n",
    "tfidf = TfidfVectorizer()\n",
    "tfidf.fit(X_train)\n",
    "\n",
    "X_train_xgb = tfidf.transform(X_train)\n",
    "X_test_xgb = tfidf.transform(X_test)"
   ]
  },
  {
   "cell_type": "code",
   "execution_count": 35,
   "metadata": {},
   "outputs": [],
   "source": [
    "#function for easy training and valuation\n",
    "#source: https://www.kaggle.com/sakana/classification-with-tf-idf-and-lightgbm\n",
    "from sklearn.metrics import classification_report,roc_auc_score\n",
    "def train_and_predict(clf):\n",
    "    clf.fit(X_train_xgb, y_train)\n",
    "    y_pred = clf.predict(X_test_xgb)\n",
    "    auc_score = roc_auc_score(y_test, y_pred)\n",
    "    print('auc: {:.5}'.format(auc_score))\n",
    "    print(classification_report(y_test, y_pred, target_names = ['Fake','Not Fake']))\n",
    "    return clf, y_pred"
   ]
  },
  {
   "cell_type": "code",
   "execution_count": 36,
   "metadata": {},
   "outputs": [
    {
     "name": "stdout",
     "output_type": "stream",
     "text": [
      "auc: 0.98805\n",
      "              precision    recall  f1-score   support\n",
      "\n",
      "        Fake       0.99      0.99      0.99      7091\n",
      "    Not Fake       0.99      0.99      0.99      6379\n",
      "\n",
      "    accuracy                           0.99     13470\n",
      "   macro avg       0.99      0.99      0.99     13470\n",
      "weighted avg       0.99      0.99      0.99     13470\n",
      "\n"
     ]
    },
    {
     "data": {
      "text/plain": [
       "(XGBClassifier(base_score=0.5, booster='gbtree', colsample_bylevel=1,\n",
       "               colsample_bynode=1, colsample_bytree=1, eval_metric='rmse',\n",
       "               gamma=0, gpu_id=-1, importance_type='gain',\n",
       "               interaction_constraints='', learning_rate=0.300000012,\n",
       "               max_delta_step=0, max_depth=6, min_child_weight=1, missing=nan,\n",
       "               monotone_constraints='()', n_estimators=100, n_jobs=8,\n",
       "               num_parallel_tree=1, random_state=0, reg_alpha=0, reg_lambda=1,\n",
       "               scale_pos_weight=1, subsample=1, tree_method='exact',\n",
       "               use_label_encoder=False, validate_parameters=1, verbosity=None),\n",
       " array([0, 1, 1, ..., 1, 0, 1]))"
      ]
     },
     "execution_count": 36,
     "metadata": {},
     "output_type": "execute_result"
    }
   ],
   "source": [
    "from xgboost import XGBClassifier\n",
    "clf = XGBClassifier(eval_metric='rmse', use_label_encoder=False)\n",
    "train_and_predict(clf)"
   ]
  },
  {
   "cell_type": "markdown",
   "metadata": {},
   "source": [
    "### 3. BiLSTMs"
   ]
  },
  {
   "cell_type": "code",
   "execution_count": 42,
   "metadata": {},
   "outputs": [],
   "source": [
    "X_train_rnn, X_test_rnn, y_train_rnn, y_test_rnn = train_test_split(X, Y, test_size=0.30, random_state=42)"
   ]
  },
  {
   "cell_type": "code",
   "execution_count": 43,
   "metadata": {},
   "outputs": [],
   "source": [
    "max_vocab = 10000\n",
    "tokenizer = Tokenizer(num_words=max_vocab)\n",
    "tokenizer.fit_on_texts(X_train_rnn)\n",
    "\n",
    "# tokenize the text into vectors \n",
    "X_train_rnn = tokenizer.texts_to_sequences(X_train_rnn)\n",
    "X_test_rnn = tokenizer.texts_to_sequences(X_test_rnn)\n",
    "\n",
    "X_train_rnn = tf.keras.preprocessing.sequence.pad_sequences(X_train_rnn, padding='post', maxlen=256)\n",
    "X_test_rnn = tf.keras.preprocessing.sequence.pad_sequences(X_test_rnn, padding='post', maxlen=256)"
   ]
  },
  {
   "cell_type": "code",
   "execution_count": 45,
   "metadata": {},
   "outputs": [
    {
     "name": "stdout",
     "output_type": "stream",
     "text": [
      "Epoch 1/5\n",
      "943/943 [==============================] - 229s 238ms/step - loss: 0.4693 - accuracy: 0.7057 - val_loss: 0.0903 - val_accuracy: 0.9755\n",
      "Epoch 2/5\n",
      "943/943 [==============================] - 234s 248ms/step - loss: 0.0673 - accuracy: 0.9833 - val_loss: 0.0599 - val_accuracy: 0.9809\n",
      "Epoch 3/5\n",
      "943/943 [==============================] - 224s 237ms/step - loss: 0.0304 - accuracy: 0.9932 - val_loss: 0.0581 - val_accuracy: 0.9828\n",
      "Epoch 4/5\n",
      "943/943 [==============================] - 224s 238ms/step - loss: 0.0295 - accuracy: 0.9941 - val_loss: 0.0566 - val_accuracy: 0.9831\n",
      "Epoch 5/5\n",
      "943/943 [==============================] - 224s 237ms/step - loss: 0.0148 - accuracy: 0.9971 - val_loss: 0.0555 - val_accuracy: 0.9870\n"
     ]
    }
   ],
   "source": [
    "model = tf.keras.Sequential([\n",
    "    tf.keras.layers.Embedding(max_vocab, 32),\n",
    "    tf.keras.layers.Bidirectional(tf.keras.layers.LSTM(64,  return_sequences=True)),\n",
    "    tf.keras.layers.Bidirectional(tf.keras.layers.LSTM(16)),\n",
    "    tf.keras.layers.Dense(64, activation='relu'),\n",
    "    tf.keras.layers.Dropout(0.5),\n",
    "    tf.keras.layers.Dense(1)\n",
    "])\n",
    "early_stop = tf.keras.callbacks.EarlyStopping(monitor='val_loss', patience=2, restore_best_weights=True)\n",
    "model.compile(loss=tf.keras.losses.BinaryCrossentropy(from_logits=True),\n",
    "              optimizer=tf.keras.optimizers.Adam(1e-4),\n",
    "              metrics=['accuracy'])\n",
    "\n",
    "history = model.fit(X_train_rnn, y_train_rnn, epochs=5,validation_split=0.1, batch_size=30, shuffle=True, callbacks=[early_stop])"
   ]
  },
  {
   "cell_type": "code",
   "execution_count": 46,
   "metadata": {},
   "outputs": [
    {
     "name": "stdout",
     "output_type": "stream",
     "text": [
      "106/106 [==============================] - 18s 166ms/step - loss: 0.0571 - accuracy: 0.9880\n",
      "0.9879732728004456\n",
      "              precision    recall  f1-score   support\n",
      "\n",
      "        Fake       0.99      0.99      0.99      7091\n",
      "    Not Fake       0.99      0.99      0.99      6379\n",
      "\n",
      "    accuracy                           0.99     13470\n",
      "   macro avg       0.99      0.99      0.99     13470\n",
      "weighted avg       0.99      0.99      0.99     13470\n",
      "\n"
     ]
    }
   ],
   "source": [
    "y_pred_rnn = model.predict_classes(X_test_rnn)\n",
    "\n",
    "#evaluation \n",
    "_,val_acc = model.evaluate(X_test_rnn,y_test_rnn, batch_size=128)\n",
    "print(val_acc)\n",
    "\n",
    "print(classification_report(y_test_rnn, y_pred_rnn, target_names = ['Fake','Not Fake']))"
   ]
  },
  {
   "cell_type": "markdown",
   "metadata": {},
   "source": [
    "# Summary"
   ]
  },
  {
   "cell_type": "markdown",
   "metadata": {},
   "source": [
    "- My inital idea is to break-down the project into pipeline:\n",
    "    Data Loading => Data Preprocessing => Word Embedding => Model\n",
    "\n",
    "- Under Model phase, there are 2 branches, which are traditional machine learning models and deep learning models.\n",
    "Since the requirement is to implement 3 models, I decided to choose 1 from machine learning and 2 from deep learning branch.\n",
    "\n",
    "    - For Machine Learning Model, XGBoost is chosen due to its nature of ensemble learning and proven perefomance it numerous tasks\n",
    "    - For deep learning models, I chose LSTM and BiLSTMs (based on literature research, they are known to generate good result for text classifcation tasks). LSTM only keep track of information of the past while BiLSTMs looks both way. So the end goal here is to test to see which method works better for fake news detection (end result: BiLSTMs is better than LSTM)\n",
    "\n",
    "\n",
    "- Under Word Embedding Phase, there are a number of options such as Word2Vec (CBOW or Skipgram),TF-IDF, Fasttext, GloVe, XLNET, RoBERTa...\n",
    "        => Here I chose TF-IDF (a traditional approach) and GloVe Word Embedding\n",
    "\n",
    "3 Model chosen with exact accuracy lelel:\n",
    "- LSTM with GloVe  = 0.9869\n",
    "- XGBosst with TF-IDF = 0.9880\n",
    "- BiLSTMs = 0.9880\n",
    "\n",
    "f1 Score of all three aproaches are almost equivalently high but XGBoost run significantly faster than NN models. In the context of this particular dataset, I would go with XGBoost who generated same accuracy as BiLSTMs with faster time.\n",
    "\n",
    "Reference: https://towardsdatascience.com/model-selection-in-text-classification-ac13eedf6146"
   ]
  },
  {
   "cell_type": "code",
   "execution_count": null,
   "metadata": {},
   "outputs": [],
   "source": []
  }
 ],
 "metadata": {
  "kernelspec": {
   "display_name": "Python 3",
   "language": "python",
   "name": "python3"
  },
  "language_info": {
   "codemirror_mode": {
    "name": "ipython",
    "version": 3
   },
   "file_extension": ".py",
   "mimetype": "text/x-python",
   "name": "python",
   "nbconvert_exporter": "python",
   "pygments_lexer": "ipython3",
   "version": "3.8.5"
  }
 },
 "nbformat": 4,
 "nbformat_minor": 4
}
